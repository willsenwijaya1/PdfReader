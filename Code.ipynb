{
 "cells": [
  {
   "cell_type": "code",
   "execution_count": null,
   "metadata": {},
   "outputs": [
    {
     "name": "stdout",
     "output_type": "stream",
     "text": [
      "File yang telah diperbaiki disimpan di: Fixed_Book2.xlsx\n"
     ]
    }
   ],
   "source": [
    "import pdfplumber\n",
    "import pandas as pd\n",
    "\n",
    "def extract_tables_from_pdf(pdf_path, output_excel):\n",
    "    all_extracted_data = []\n",
    "    pending_row = None  # Untuk menyimpan baris yang terpotong\n",
    "    previous_headers = None  # Untuk menyimpan header jika kolom tabel terpotong\n",
    "\n",
    "    def clean_text(text):\n",
    "        if pd.isnull(text):\n",
    "            return ''\n",
    "        return str(text).strip().lower().replace('\\n', ' ')\n",
    "\n",
    "    with pdfplumber.open(pdf_path) as pdf:\n",
    "        for page_num, page in enumerate(pdf.pages, start=1):\n",
    "            tables = page.extract_tables()\n",
    "\n",
    "            for table in tables:\n",
    "                df = pd.DataFrame(table).applymap(clean_text)\n",
    "\n",
    "                # Jika tabel memiliki header baru, simpan sebagai header\n",
    "                if df.iloc[0].str.contains(\"pecahan\", case=False, na=False).any():\n",
    "                    previous_headers = df.iloc[0].tolist()\n",
    "                    df = df[1:].reset_index(drop=True)\n",
    "\n",
    "                # Jika halaman ini tidak memiliki header tetapi sebelumnya ada, gunakan header sebelumnya\n",
    "                elif previous_headers is not None:\n",
    "                    df.columns = previous_headers\n",
    "\n",
    "                # Jika ada pending row dari halaman sebelumnya, gabungkan dengan baris pertama\n",
    "                if pending_row is not None:\n",
    "                    df.iloc[0] = df.iloc[0].combine_first(pending_row)\n",
    "                    pending_row = None\n",
    "\n",
    "                # Simpan baris terakhir jika tidak lengkap (mungkin terpotong di halaman berikutnya)\n",
    "                last_row = df.iloc[-1]\n",
    "                if last_row.isnull().sum() > 0:\n",
    "                    pending_row = last_row\n",
    "                    df = df[:-1]  # Hapus baris yang belum lengkap\n",
    "\n",
    "                all_extracted_data.append(df)\n",
    "\n",
    "    # Gabungkan semua tabel yang telah diperbaiki\n",
    "    if all_extracted_data:\n",
    "        final_df = pd.concat(all_extracted_data, ignore_index=True)\n",
    "        final_df.to_excel(output_excel, index=False, header=False)\n",
    "        print(f\"✅ Semua tabel berhasil diekspor ke {output_excel}\")\n",
    "    else:\n",
    "        print(\"⚠ Tidak ada tabel yang cocok ditemukan.\")\n",
    "\n",
    "# Contoh penggunaan\n",
    "pdf_path = \"014-2025-FK-01759_140225_KELAPA GADING_0065_K9_CAC.pdf\"\n",
    "output_excel = \"output_tabel.xlsx\"\n",
    "extract_tables_from_pdf(pdf_path, output_excel)"
   ]
  },
  {
   "cell_type": "code",
   "execution_count": null,
   "metadata": {},
   "outputs": [
    {
     "name": "stdout",
     "output_type": "stream",
     "text": [
      "Sheet2 berhasil dibuat dengan struktur yang diminta!\n"
     ]
    }
   ],
   "source": [
    "import pandas as pd\n",
    "\n",
    "# Load file Excel\n",
    "file_path = \"output_tabel.xlsx\"\n",
    "df = pd.read_excel(file_path, header=None)\n",
    "\n",
    "# Temukan baris header (baris ganjil) dan baris nilai (baris genap)\n",
    "for row in range(0, len(df) - 1, 2):\n",
    "    header_row = df.iloc[row]  # Baris header\n",
    "    value_row = df.iloc[row + 1]  # Baris nilai\n",
    "    \n",
    "    # Cek jika nilai tidak sejajar dengan header\n",
    "    if value_row.first_valid_index() < header_row.first_valid_index():\n",
    "        # Pindahkan nilai ke kolom yang sesuai\n",
    "        corrected_values = value_row.dropna().values\n",
    "        \n",
    "        # Pastikan panjang nilai sesuai dengan jumlah header yang valid\n",
    "        valid_headers = header_row.dropna().index\n",
    "        for i, col in enumerate(valid_headers):\n",
    "            if i < len(corrected_values):\n",
    "                df.iat[row + 1, col] = corrected_values[i]  # Pindahkan nilai ke kolom yang benar\n",
    "                \n",
    "        # Kosongkan kolom lama yang tidak sesuai\n",
    "        df.iloc[row + 1, :valid_headers[0]] = None\n",
    "\n",
    "# Simpan hasil perbaikan\n",
    "df.to_excel(file_path, index=False, header=False)\n",
    "print(f\"File telah disimpan di {file_path}\")"
   ]
  },
  {
   "cell_type": "code",
   "execution_count": null,
   "metadata": {},
   "outputs": [
    {
     "name": "stdout",
     "output_type": "stream",
     "text": [
      "Sheet2 berhasil dibuat dengan struktur yang diminta!\n"
     ]
    },
    {
     "name": "stderr",
     "output_type": "stream",
     "text": [
      "C:\\Users\\lenovo\\AppData\\Local\\Temp\\ipykernel_9588\\1854577445.py:68: FutureWarning: DataFrame.fillna with 'method' is deprecated and will raise in a future version. Use obj.ffill() or obj.bfill() instead.\n",
      "  df.fillna(method='ffill', inplace=True)\n"
     ]
    }
   ],
   "source": [
    "import pandas as pd\n",
    "from openpyxl import load_workbook\n",
    "\n",
    "# Baca file Excel\n",
    "file_path = 'output_tabel.xlsx'\n",
    "sheet1 = pd.read_excel(file_path, sheet_name='Sheet1', header=None)\n",
    "\n",
    "# Inisialisasi list untuk menyimpan data\n",
    "data_rows = []\n",
    "current_row = {}\n",
    "cols_needed = [\n",
    "    \"tanggal temuan\", \"cara temuan\", \"waktu pendeteksian\", \"nama kantor\", \"provinsi\", \"kota\",\n",
    "    \"jenis kontributor\", \"kantor kontributor\", \"nama kontributor\", \"dokumen pendukung\", \n",
    "    \"no. identitas\", \"keterangan\", \"provinsi\", \"kota\", \"kecamatan\", \"pecahan\", \"tahun emisi\",\n",
    "    \"no. seri 1\", \"no. seri 2\", \"jumlah lembar\", \"jumlah lembar terima\", \"subtotal\",\n",
    "    \"jumlah dianalisa\", \"hasil analisa\", \"subtotal\"\n",
    "]\n",
    "\n",
    "# Variabel tambahan untuk memastikan setiap tabel memiliki batasan yang jelas\n",
    "found_first_subtotal = False\n",
    "\n",
    "# Proses parsing data\n",
    "for idx, row in sheet1.iterrows():\n",
    "    for col_num, cell_value in enumerate(row):\n",
    "        if cell_value in cols_needed:\n",
    "            # Ambil nilai di bawah header jika ada\n",
    "            if idx+1 < len(sheet1):\n",
    "                next_val = sheet1.iloc[idx+1, col_num]\n",
    "                \n",
    "                # Penanganan khusus untuk \"subtotal\"\n",
    "                if cell_value == 'subtotal':\n",
    "                    if found_first_subtotal:\n",
    "                        current_row['subtotal 2'] = next_val\n",
    "                        data_rows.append(current_row)  # Simpan data sebagai satu tabel\n",
    "                        current_row = {}  # Reset untuk tabel berikutnya\n",
    "                        found_first_subtotal = False  # Reset flag subtotal pertama\n",
    "                    else:\n",
    "                        current_row['subtotal'] = next_val\n",
    "                        found_first_subtotal = True\n",
    "                elif cell_value == 'provinsi' and 'provinsi' in current_row:\n",
    "                    current_row['provinsi_kontributor'] = next_val\n",
    "                elif cell_value == 'kota' and 'kota' in current_row:\n",
    "                    current_row['kota_kontributor'] = next_val\n",
    "                else:\n",
    "                    current_row[cell_value] = next_val\n",
    "\n",
    "# Pastikan tabel terakhir tersimpan jika tidak ada subtotal kedua\n",
    "if current_row:\n",
    "    data_rows.append(current_row)\n",
    "\n",
    "# Buat DataFrame\n",
    "df = pd.DataFrame(data_rows)\n",
    "\n",
    "# Cek apakah ada tabel tanpa \"tanggal temuan\", lalu pindahkan provinsi & kota ke provinsi_kontributor & kota_kontributor\n",
    "if 'tanggal temuan' in df.columns:\n",
    "    df['tanggal temuan'] = pd.to_datetime(df['tanggal temuan'], errors='coerce')\n",
    "    mask_no_date = df['tanggal temuan'].isna()\n",
    "    df.loc[mask_no_date, 'provinsi_kontributor'] = df.loc[mask_no_date, 'provinsi']\n",
    "    df.loc[mask_no_date, 'kota_kontributor'] = df.loc[mask_no_date, 'kota']\n",
    "    df.loc[mask_no_date, ['provinsi', 'kota']] = None  # Kosongkan kolom provinsi & kota jika \"tanggal temuan\" tidak ada\n",
    "\n",
    "# Format ulang \"tanggal temuan\"\n",
    "date_columns = [\"tanggal temuan\"]\n",
    "for col in date_columns:\n",
    "    if col in df.columns:\n",
    "        df[col] = df[col].dt.strftime('%d-%m-%Y')\n",
    "\n",
    "df.fillna(method='ffill', inplace=True)\n",
    "\n",
    "# Simpan ke sheet baru\n",
    "with pd.ExcelWriter(file_path, engine='openpyxl', mode='a') as writer:\n",
    "    df.to_excel(writer, sheet_name='Sheet2', index=False)\n",
    "\n",
    "print(\"Sheet2 berhasil dibuat dengan struktur yang diminta!\")"
   ]
  }
 ],
 "metadata": {
  "kernelspec": {
   "display_name": "Python 3",
   "language": "python",
   "name": "python3"
  },
  "language_info": {
   "codemirror_mode": {
    "name": "ipython",
    "version": 3
   },
   "file_extension": ".py",
   "mimetype": "text/x-python",
   "name": "python",
   "nbconvert_exporter": "python",
   "pygments_lexer": "ipython3",
   "version": "3.13.1"
  }
 },
 "nbformat": 4,
 "nbformat_minor": 2
}
